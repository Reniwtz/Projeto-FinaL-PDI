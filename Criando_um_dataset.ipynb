{
  "nbformat": 4,
  "nbformat_minor": 0,
  "metadata": {
    "colab": {
      "name": "Novo - Criando um dataset.ipynb",
      "provenance": [],
      "collapsed_sections": []
    },
    "kernelspec": {
      "name": "python3",
      "display_name": "Python 3"
    },
    "accelerator": "GPU"
  },
  "cells": [
    {
      "cell_type": "markdown",
      "metadata": {
        "id": "R_lNQfvXcXEl"
      },
      "source": [
        "# Coletando e catalogando as imagens do objeto para treinamento"
      ]
    },
    {
      "cell_type": "markdown",
      "metadata": {
        "id": "PS0oGeB4X59W"
      },
      "source": [
        "## Etapa 1 - Clonando o repositório da ferramenta"
      ]
    },
    {
      "cell_type": "code",
      "metadata": {
        "id": "UyucoO5z9hM5",
        "outputId": "2bca659c-30d1-4fd2-d6a4-3ad23a71ec43",
        "colab": {
          "base_uri": "https://localhost:8080/",
          "height": 125
        }
      },
      "source": [
        "!git clone https://github.com/EscVM/OIDv4_ToolKit.git"
      ],
      "execution_count": null,
      "outputs": [
        {
          "output_type": "stream",
          "text": [
            "Cloning into 'OIDv4_ToolKit'...\n",
            "remote: Enumerating objects: 422, done.\u001b[K\n",
            "remote: Total 422 (delta 0), reused 0 (delta 0), pack-reused 422\u001b[K\n",
            "Receiving objects: 100% (422/422), 34.08 MiB | 16.96 MiB/s, done.\n",
            "Resolving deltas: 100% (146/146), done.\n"
          ],
          "name": "stdout"
        }
      ]
    },
    {
      "cell_type": "markdown",
      "metadata": {
        "id": "0HGydJaEYTdj"
      },
      "source": [
        "## Etapa 2 - Acessando o diretório da ferramenta "
      ]
    },
    {
      "cell_type": "code",
      "metadata": {
        "id": "-F-P0Qr8RWBr",
        "outputId": "3b6e1b58-43fa-46f9-cedb-a00195acffef",
        "colab": {
          "base_uri": "https://localhost:8080/",
          "height": 55
        }
      },
      "source": [
        "cd OIDv4_ToolKit/"
      ],
      "execution_count": null,
      "outputs": [
        {
          "output_type": "stream",
          "text": [
            "/content/OIDv4_ToolKit\n"
          ],
          "name": "stdout"
        }
      ]
    },
    {
      "cell_type": "markdown",
      "metadata": {
        "id": "FWLutEtfYrrh"
      },
      "source": [
        "## Etapa 3 - Instalando todas as bibliotecas necessárias"
      ]
    },
    {
      "cell_type": "code",
      "metadata": {
        "id": "uUtMalvNRcF3"
      },
      "source": [
        "!pip3 install -r requirements.txt"
      ],
      "execution_count": null,
      "outputs": []
    },
    {
      "cell_type": "markdown",
      "metadata": {
        "id": "At8ek4zlZIyT"
      },
      "source": [
        "## Etapa 4 - Fazendo o download das imagens"
      ]
    },
    {
      "cell_type": "markdown",
      "metadata": {
        "id": "DmGzBS8P2je8"
      },
      "source": [
        "### Conjunto de imagens de Treinamento\n",
        "\n",
        "- https://storage.googleapis.com/openimages/web/index.html"
      ]
    },
    {
      "cell_type": "code",
      "metadata": {
        "id": "5M5F3fWDSGzj"
      },
      "source": [
        "!python main.py downloader --classes Apple Coffee_cup Horse --type_csv train --limit 500 --multiclasses 1"
      ],
      "execution_count": null,
      "outputs": []
    },
    {
      "cell_type": "markdown",
      "metadata": {
        "id": "kPx2xPlW24IX"
      },
      "source": [
        "### Conjunto de imagens de Validação"
      ]
    },
    {
      "cell_type": "code",
      "metadata": {
        "id": "pxkMKV4JZ-mW"
      },
      "source": [
        "!python main.py downloader --classes Apple Coffee_cup Horse --type_csv test --limit 100 --multiclasses 1"
      ],
      "execution_count": null,
      "outputs": []
    },
    {
      "cell_type": "markdown",
      "metadata": {
        "id": "qV818C8StBBB"
      },
      "source": [
        "## Etapa 5 - Convertendo os arquivos de anotação"
      ]
    },
    {
      "cell_type": "markdown",
      "metadata": {
        "id": "INFDGAt7u2GX"
      },
      "source": [
        "### 1. Colocar as classes no arquivo classes.txt"
      ]
    },
    {
      "cell_type": "code",
      "metadata": {
        "id": "9GWaBFIqegFC",
        "outputId": "69cc5ed6-7b43-4748-e341-4ef3927ddb06",
        "colab": {
          "base_uri": "https://localhost:8080/",
          "height": 90
        }
      },
      "source": [
        "!cat classes.txt"
      ],
      "execution_count": null,
      "outputs": [
        {
          "output_type": "stream",
          "text": [
            "Apple\n",
            "Orange\n",
            "Light switch\n"
          ],
          "name": "stdout"
        }
      ]
    },
    {
      "cell_type": "code",
      "metadata": {
        "id": "fw8RPcn5euoA"
      },
      "source": [
        "!echo -e 'Apple\\nCoffee cup\\nHorse' > classes.txt"
      ],
      "execution_count": null,
      "outputs": []
    },
    {
      "cell_type": "markdown",
      "metadata": {
        "id": "s2JDmfEbuOHH"
      },
      "source": [
        "### 2. Baixar o arquivo converter_annotations.py e adicione-o ao diretório"
      ]
    },
    {
      "cell_type": "code",
      "metadata": {
        "id": "YkIDIbpHe_K-",
        "outputId": "1996bc82-1d9f-4c92-8df7-fa381040f153",
        "colab": {
          "base_uri": "https://localhost:8080/",
          "height": 55
        }
      },
      "source": [
        "from google.colab import drive\n",
        "drive.mount('/content/gdrive')"
      ],
      "execution_count": null,
      "outputs": [
        {
          "output_type": "stream",
          "text": [
            "Mounted at /content/gdrive\n"
          ],
          "name": "stdout"
        }
      ]
    },
    {
      "cell_type": "code",
      "metadata": {
        "id": "p2NfFgdkfZ7N"
      },
      "source": [
        "!unzip /content/gdrive/My\\ Drive/Cursos\\ -\\ recursos/YOLO/recursos/TreinamentoYOLO.zip -d /content/"
      ],
      "execution_count": null,
      "outputs": []
    },
    {
      "cell_type": "code",
      "metadata": {
        "id": "WhGjsUm0f9_5"
      },
      "source": [
        "!cp /content/TreinamentoYOLO/converter_annotations.py ./"
      ],
      "execution_count": null,
      "outputs": []
    },
    {
      "cell_type": "markdown",
      "metadata": {
        "id": "ll5d8wUOuklN"
      },
      "source": [
        "### 3. Executar o arquivo de conversão\n",
        "\n"
      ]
    },
    {
      "cell_type": "code",
      "metadata": {
        "id": "-sSdpqGCiMkE",
        "outputId": "98729906-19d8-48ee-af15-6930e558fbbf",
        "colab": {
          "base_uri": "https://localhost:8080/",
          "height": 143
        }
      },
      "source": [
        "!python converter_annotations.py"
      ],
      "execution_count": null,
      "outputs": [
        {
          "output_type": "stream",
          "text": [
            "Subdiretorio atual: train\n",
            "Convertendo os annotations para a classe:  Apple_Coffee cup_Horse\n",
            "100% 1498/1498 [00:41<00:00, 36.42it/s]\n",
            "Subdiretorio atual: test\n",
            "Convertendo os annotations para a classe:  Apple_Coffee cup_Horse\n",
            "100% 300/300 [00:06<00:00, 44.17it/s]\n"
          ],
          "name": "stdout"
        }
      ]
    },
    {
      "cell_type": "markdown",
      "metadata": {
        "id": "917MlTGGfEOj"
      },
      "source": [
        "## Etapa 6 - Compactar o dataset "
      ]
    },
    {
      "cell_type": "code",
      "metadata": {
        "id": "Nm4AOqNajiJ9",
        "outputId": "a320c9d7-632b-4395-dd6b-956ca0789d5e",
        "colab": {
          "base_uri": "https://localhost:8080/",
          "height": 55
        }
      },
      "source": [
        "cd OID/Dataset/train/"
      ],
      "execution_count": null,
      "outputs": [
        {
          "output_type": "stream",
          "text": [
            "/content/OIDv4_ToolKit/OID/Dataset/train\n"
          ],
          "name": "stdout"
        }
      ]
    },
    {
      "cell_type": "code",
      "metadata": {
        "id": "YDBpEyQDj5o2"
      },
      "source": [
        "!zip -r ../../../obj.zip obj -x obj/Label/*"
      ],
      "execution_count": null,
      "outputs": []
    },
    {
      "cell_type": "code",
      "metadata": {
        "id": "sn3CGKV5k07h",
        "outputId": "c95d53c9-a1d6-4148-8218-b53ddbc196c6",
        "colab": {
          "base_uri": "https://localhost:8080/",
          "height": 55
        }
      },
      "source": [
        "cd ../../../../"
      ],
      "execution_count": null,
      "outputs": [
        {
          "output_type": "stream",
          "text": [
            "/content\n"
          ],
          "name": "stdout"
        }
      ]
    },
    {
      "cell_type": "code",
      "metadata": {
        "id": "oqcY9-5LlMid",
        "outputId": "c4c9e33f-58af-4610-9d6b-01204214da51",
        "colab": {
          "base_uri": "https://localhost:8080/",
          "height": 55
        }
      },
      "source": [
        "cd OIDv4_ToolKit/"
      ],
      "execution_count": null,
      "outputs": [
        {
          "output_type": "stream",
          "text": [
            "/content/OIDv4_ToolKit\n"
          ],
          "name": "stdout"
        }
      ]
    },
    {
      "cell_type": "code",
      "metadata": {
        "id": "gb4YFh1tk_Xn"
      },
      "source": [
        "!cp ./obj.zip /content/gdrive/My\\ Drive/Cursos\\ -\\ recursos/YOLO/recursos"
      ],
      "execution_count": null,
      "outputs": []
    },
    {
      "cell_type": "code",
      "metadata": {
        "id": "hB4oiSPOoa1Q"
      },
      "source": [
        "!zip -r ../../../../valid.zip valid -x valid/Label/*"
      ],
      "execution_count": null,
      "outputs": []
    },
    {
      "cell_type": "code",
      "metadata": {
        "id": "rJh_W0Gho4tM",
        "outputId": "bf002800-dfdd-4cfc-a97f-1e4f3e6b2a1f",
        "colab": {
          "base_uri": "https://localhost:8080/",
          "height": 55
        }
      },
      "source": [
        "cd /content/"
      ],
      "execution_count": null,
      "outputs": [
        {
          "output_type": "stream",
          "text": [
            "/content\n"
          ],
          "name": "stdout"
        }
      ]
    },
    {
      "cell_type": "code",
      "metadata": {
        "id": "vAwf5nqpoxlW"
      },
      "source": [
        "!cp ./valid.zip /content/gdrive/My\\ Drive/Cursos\\ -\\ recursos/YOLO/recursos"
      ],
      "execution_count": null,
      "outputs": []
    },
    {
      "cell_type": "markdown",
      "metadata": {
        "id": "ve4pgC1vcF7i"
      },
      "source": [
        "# Editando os arquivos de configuração necessários para o treinamento"
      ]
    },
    {
      "cell_type": "code",
      "metadata": {
        "id": "rbnfuDs_pJNM",
        "outputId": "2ee80333-346f-44e2-d269-64bc703b990b",
        "colab": {
          "base_uri": "https://localhost:8080/",
          "height": 125
        }
      },
      "source": [
        "!git clone https://github.com/AlexeyAB/darknet"
      ],
      "execution_count": null,
      "outputs": [
        {
          "output_type": "stream",
          "text": [
            "Cloning into 'darknet'...\n",
            "remote: Enumerating objects: 14330, done.\u001b[K\n",
            "remote: Total 14330 (delta 0), reused 0 (delta 0), pack-reused 14330\u001b[K\n",
            "Receiving objects: 100% (14330/14330), 12.86 MiB | 10.51 MiB/s, done.\n",
            "Resolving deltas: 100% (9773/9773), done.\n"
          ],
          "name": "stdout"
        }
      ]
    },
    {
      "cell_type": "code",
      "metadata": {
        "id": "IE2svmd-pdfM",
        "outputId": "94c0772c-8a3a-4aa9-cf5f-2eba36d5d338",
        "colab": {
          "base_uri": "https://localhost:8080/",
          "height": 55
        }
      },
      "source": [
        "cd darknet/"
      ],
      "execution_count": null,
      "outputs": [
        {
          "output_type": "stream",
          "text": [
            "/content/darknet\n"
          ],
          "name": "stdout"
        }
      ]
    },
    {
      "cell_type": "code",
      "metadata": {
        "id": "Phk6aTrwphBy"
      },
      "source": [
        "!make"
      ],
      "execution_count": null,
      "outputs": []
    },
    {
      "cell_type": "markdown",
      "metadata": {
        "id": "nC4Jn6i7gEjm"
      },
      "source": [
        "## Etapa 7 - Definindo os arquivos de configuração"
      ]
    },
    {
      "cell_type": "markdown",
      "metadata": {
        "id": "fVOROvtWzU4y"
      },
      "source": [
        "### Modificações no .cfg"
      ]
    },
    {
      "cell_type": "code",
      "metadata": {
        "id": "ul3L4aAjrAdF"
      },
      "source": [
        "!cp cfg/yolov4.cfg /content/gdrive/My\\ Drive/Cursos\\ -\\ recursos/YOLO/recursos/yolov4_custom.cfg"
      ],
      "execution_count": null,
      "outputs": []
    },
    {
      "cell_type": "markdown",
      "metadata": {
        "id": "1CaFZnKGGw9s"
      },
      "source": [
        "### Modificações no obj.names e obj.data"
      ]
    },
    {
      "cell_type": "code",
      "metadata": {
        "id": "KKnURn0DtIqX"
      },
      "source": [
        "!touch obj.names\n",
        "!touch obj.data"
      ],
      "execution_count": null,
      "outputs": []
    },
    {
      "cell_type": "code",
      "metadata": {
        "id": "Als3-ZzVtXmX"
      },
      "source": [
        "!cp obj.names /content/gdrive/My\\ Drive/Cursos\\ -\\ recursos/YOLO/recursos/obj.names\n",
        "!cp obj.data /content/gdrive/My\\ Drive/Cursos\\ -\\ recursos/YOLO/recursos/obj.data"
      ],
      "execution_count": null,
      "outputs": []
    },
    {
      "cell_type": "markdown",
      "metadata": {
        "id": "xQkErxsnvNJ3"
      },
      "source": [
        "## Etapa 8 - Gerando o arquivo train.txt e test.txt"
      ]
    },
    {
      "cell_type": "code",
      "metadata": {
        "id": "ROkyKD9eu5O8",
        "outputId": "b7a735d9-38fd-44c1-f826-69fb6ac90e44",
        "colab": {
          "base_uri": "https://localhost:8080/",
          "height": 55
        }
      },
      "source": [
        "cd .."
      ],
      "execution_count": null,
      "outputs": [
        {
          "output_type": "stream",
          "text": [
            "/content\n"
          ],
          "name": "stdout"
        }
      ]
    },
    {
      "cell_type": "code",
      "metadata": {
        "id": "3X_Kn9mTu8vH",
        "outputId": "6c45e5ae-8a68-4f5d-aab2-d4c77d9b7724",
        "colab": {
          "base_uri": "https://localhost:8080/",
          "height": 55
        }
      },
      "source": [
        "cd OIDv4_ToolKit/"
      ],
      "execution_count": null,
      "outputs": [
        {
          "output_type": "stream",
          "text": [
            "/content/OIDv4_ToolKit\n"
          ],
          "name": "stdout"
        }
      ]
    },
    {
      "cell_type": "code",
      "metadata": {
        "id": "tzL3aAwbunDw"
      },
      "source": [
        "!unzip obj.zip -d ./data"
      ],
      "execution_count": null,
      "outputs": []
    },
    {
      "cell_type": "code",
      "metadata": {
        "id": "6oJwot7hvaO5"
      },
      "source": [
        "!unzip /content/valid.zip -d ./data"
      ],
      "execution_count": null,
      "outputs": []
    },
    {
      "cell_type": "code",
      "metadata": {
        "id": "wzC1QX1RvoUE"
      },
      "source": [
        "!python /content/TreinamentoYOLO/gerar_train.py"
      ],
      "execution_count": null,
      "outputs": []
    },
    {
      "cell_type": "code",
      "metadata": {
        "id": "eB6cmSv3wVh_"
      },
      "source": [
        "!python /content/TreinamentoYOLO/gerar_test.py"
      ],
      "execution_count": null,
      "outputs": []
    },
    {
      "cell_type": "code",
      "metadata": {
        "id": "2MqXbdOjwqBH",
        "outputId": "49bbf161-c920-4162-e560-85579abbeb4e",
        "colab": {
          "base_uri": "https://localhost:8080/",
          "height": 55
        }
      },
      "source": [
        "cd data"
      ],
      "execution_count": null,
      "outputs": [
        {
          "output_type": "stream",
          "text": [
            "/content/OIDv4_ToolKit/data\n"
          ],
          "name": "stdout"
        }
      ]
    },
    {
      "cell_type": "code",
      "metadata": {
        "id": "oDCbphzGwceC"
      },
      "source": [
        "!cp train.txt /content/gdrive/My\\ Drive/Cursos\\ -\\ recursos/YOLO/recursos/train.txt"
      ],
      "execution_count": null,
      "outputs": []
    },
    {
      "cell_type": "code",
      "metadata": {
        "id": "gdO9qHhRwu9T"
      },
      "source": [
        "!cp test.txt /content/gdrive/My\\ Drive/Cursos\\ -\\ recursos/YOLO/recursos/test.txt"
      ],
      "execution_count": null,
      "outputs": []
    }
  ]
}